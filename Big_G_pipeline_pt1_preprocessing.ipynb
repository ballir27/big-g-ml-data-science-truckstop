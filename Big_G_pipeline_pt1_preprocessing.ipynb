{
 "cells": [
  {
   "cell_type": "markdown",
   "id": "610a1723-f543-453a-ab94-faa9a6f55a01",
   "metadata": {},
   "source": [
    "# Big G Express: Predicting Derates\n",
    "In this project, you will be working with fault code data and vehicle onboard diagnostic data to try and predict an upcoming full derate. These are indicated by an SPN 5246. \n",
    "\n",
    "You have been provided with a two files containing the data you will use to make these predictions (J1939Faults.csv and VehicleDiagnosticOnboardData.csv) as well as two files describing some of the contents (DataInfo.docx and Service Fault Codes_1_0_0_167.xlsx) \n",
    "\n",
    "Note that in its raw form the data does not have \"labels\", so you must define what labels you are going to use and create those labels in your dataset. Also, you will likely need to perform some significant feature engineering in order to build an accurate predictor.\n",
    "\n",
    "There are service locations at (36.0666667, -86.4347222), (35.5883333, -86.4438888), and (36.1950, -83.174722), so you should remove any records in the vicinity of these locations, as fault codes may be tripped when working on the vehicles.\n",
    "\n",
    "When evaluating the performance of your model, assume that the cost associated with a missed full derate is approximately $4000.00$ in towing and repairs, and the cost of a false positive prediction is about $500 due to having the truck off the road and serviced unnecessarily."
   ]
  },
  {
   "cell_type": "markdown",
   "id": "897247a8-6297-4448-9f16-5db1e61eea1a",
   "metadata": {},
   "source": [
    "A failed component is usually what triggers this code.\n",
    "\n",
    "Common Failures\n",
    "\n",
    " * Failed DEF doser valve\n",
    " * Associated fault code: SPN 5394\n",
    " * You ran out of DEF fluid\n",
    " * Associated fault code: SPN 5392, SPN 1761\n",
    " * Inlet and Outlet NOx sensors failed, not making pressure\n",
    " * Associated fault code: SPN 4094\n",
    " * EGR system malfunction causing NOX efficiency problems\n",
    " * DEF pump failed, not making pressure\n",
    " * Associated fault code: SPN 4334, SPN 4339\n",
    " * DEF module has failed or DEF harness failure or no power to DEF module causes DEF gauge to be empty and showing datalink error and SCR malfunction.\n",
    " * The DEF / ECM could also need updating to eliminate ghost codes."
   ]
  },
  {
   "cell_type": "code",
   "execution_count": 1,
   "id": "f91d6b60-0991-4f09-808c-13ffc68572c5",
   "metadata": {},
   "outputs": [],
   "source": [
    "import pandas as pd\n",
    "import numpy as np\n",
    "import matplotlib.pyplot as plt\n",
    "import missingno as msno \n",
    "from shapely.geometry import Point\n",
    "import folium\n",
    "import geopandas as gpd"
   ]
  },
  {
   "cell_type": "code",
   "execution_count": 2,
   "id": "c07b3f29-9292-4171-b5de-3996d0fc881b",
   "metadata": {},
   "outputs": [
    {
     "data": {
      "text/html": [
       "<div>\n",
       "<style scoped>\n",
       "    .dataframe tbody tr th:only-of-type {\n",
       "        vertical-align: middle;\n",
       "    }\n",
       "\n",
       "    .dataframe tbody tr th {\n",
       "        vertical-align: top;\n",
       "    }\n",
       "\n",
       "    .dataframe thead th {\n",
       "        text-align: right;\n",
       "    }\n",
       "</style>\n",
       "<table border=\"1\" class=\"dataframe\">\n",
       "  <thead>\n",
       "    <tr style=\"text-align: right;\">\n",
       "      <th></th>\n",
       "      <th>RecordID</th>\n",
       "      <th>ESS_Id</th>\n",
       "      <th>EventTimeStamp</th>\n",
       "      <th>eventDescription</th>\n",
       "      <th>actionDescription</th>\n",
       "      <th>ecuSoftwareVersion</th>\n",
       "      <th>ecuSerialNumber</th>\n",
       "      <th>ecuModel</th>\n",
       "      <th>ecuMake</th>\n",
       "      <th>ecuSource</th>\n",
       "      <th>spn</th>\n",
       "      <th>fmi</th>\n",
       "      <th>active</th>\n",
       "      <th>activeTransitionCount</th>\n",
       "      <th>faultValue</th>\n",
       "      <th>EquipmentID</th>\n",
       "      <th>MCTNumber</th>\n",
       "      <th>Latitude</th>\n",
       "      <th>Longitude</th>\n",
       "      <th>LocationTimeStamp</th>\n",
       "    </tr>\n",
       "  </thead>\n",
       "  <tbody>\n",
       "    <tr>\n",
       "      <th>0</th>\n",
       "      <td>1</td>\n",
       "      <td>990349</td>\n",
       "      <td>2015-02-21 10:47:13.000</td>\n",
       "      <td>Low (Severity Low) Engine Coolant Level</td>\n",
       "      <td>NaN</td>\n",
       "      <td>unknown</td>\n",
       "      <td>unknown</td>\n",
       "      <td>unknown</td>\n",
       "      <td>unknown</td>\n",
       "      <td>0</td>\n",
       "      <td>111</td>\n",
       "      <td>17</td>\n",
       "      <td>True</td>\n",
       "      <td>2</td>\n",
       "      <td>NaN</td>\n",
       "      <td>1439</td>\n",
       "      <td>105354361</td>\n",
       "      <td>38.857638</td>\n",
       "      <td>-84.626851</td>\n",
       "      <td>2015-02-21 11:34:25.000</td>\n",
       "    </tr>\n",
       "    <tr>\n",
       "      <th>1</th>\n",
       "      <td>2</td>\n",
       "      <td>990360</td>\n",
       "      <td>2015-02-21 11:34:34.000</td>\n",
       "      <td>NaN</td>\n",
       "      <td>NaN</td>\n",
       "      <td>unknown</td>\n",
       "      <td>unknown</td>\n",
       "      <td>unknown</td>\n",
       "      <td>unknown</td>\n",
       "      <td>11</td>\n",
       "      <td>629</td>\n",
       "      <td>12</td>\n",
       "      <td>True</td>\n",
       "      <td>127</td>\n",
       "      <td>NaN</td>\n",
       "      <td>1439</td>\n",
       "      <td>105354361</td>\n",
       "      <td>38.857638</td>\n",
       "      <td>-84.626851</td>\n",
       "      <td>2015-02-21 11:35:10.000</td>\n",
       "    </tr>\n",
       "  </tbody>\n",
       "</table>\n",
       "</div>"
      ],
      "text/plain": [
       "   RecordID  ESS_Id           EventTimeStamp  \\\n",
       "0         1  990349  2015-02-21 10:47:13.000   \n",
       "1         2  990360  2015-02-21 11:34:34.000   \n",
       "\n",
       "                          eventDescription  actionDescription  \\\n",
       "0  Low (Severity Low) Engine Coolant Level                NaN   \n",
       "1                                      NaN                NaN   \n",
       "\n",
       "  ecuSoftwareVersion ecuSerialNumber ecuModel  ecuMake  ecuSource  spn  fmi  \\\n",
       "0            unknown         unknown  unknown  unknown          0  111   17   \n",
       "1            unknown         unknown  unknown  unknown         11  629   12   \n",
       "\n",
       "   active  activeTransitionCount  faultValue EquipmentID  MCTNumber  \\\n",
       "0    True                      2         NaN        1439  105354361   \n",
       "1    True                    127         NaN        1439  105354361   \n",
       "\n",
       "    Latitude  Longitude        LocationTimeStamp  \n",
       "0  38.857638 -84.626851  2015-02-21 11:34:25.000  \n",
       "1  38.857638 -84.626851  2015-02-21 11:35:10.000  "
      ]
     },
     "execution_count": 2,
     "metadata": {},
     "output_type": "execute_result"
    }
   ],
   "source": [
    "faults = pd.read_csv(\"../data/J1939Faults.csv\", low_memory=False)\n",
    "faults.head(2)"
   ]
  },
  {
   "cell_type": "code",
   "execution_count": 3,
   "id": "82961b0c-1230-4850-b84e-ee733f452cc9",
   "metadata": {},
   "outputs": [
    {
     "data": {
      "text/html": [
       "<div>\n",
       "<style scoped>\n",
       "    .dataframe tbody tr th:only-of-type {\n",
       "        vertical-align: middle;\n",
       "    }\n",
       "\n",
       "    .dataframe tbody tr th {\n",
       "        vertical-align: top;\n",
       "    }\n",
       "\n",
       "    .dataframe thead th {\n",
       "        text-align: right;\n",
       "    }\n",
       "</style>\n",
       "<table border=\"1\" class=\"dataframe\">\n",
       "  <thead>\n",
       "    <tr style=\"text-align: right;\">\n",
       "      <th></th>\n",
       "      <th>Id</th>\n",
       "      <th>Name</th>\n",
       "      <th>Value</th>\n",
       "      <th>FaultId</th>\n",
       "    </tr>\n",
       "  </thead>\n",
       "  <tbody>\n",
       "    <tr>\n",
       "      <th>0</th>\n",
       "      <td>1</td>\n",
       "      <td>IgnStatus</td>\n",
       "      <td>False</td>\n",
       "      <td>1</td>\n",
       "    </tr>\n",
       "    <tr>\n",
       "      <th>1</th>\n",
       "      <td>2</td>\n",
       "      <td>EngineOilPressure</td>\n",
       "      <td>0</td>\n",
       "      <td>1</td>\n",
       "    </tr>\n",
       "  </tbody>\n",
       "</table>\n",
       "</div>"
      ],
      "text/plain": [
       "   Id               Name  Value  FaultId\n",
       "0   1          IgnStatus  False        1\n",
       "1   2  EngineOilPressure      0        1"
      ]
     },
     "execution_count": 3,
     "metadata": {},
     "output_type": "execute_result"
    }
   ],
   "source": [
    "#load diagnostics data\n",
    "diagnostics = pd.read_csv(\"../data/VehicleDiagnosticOnboardData.csv\")\n",
    "diagnostics.head(2)"
   ]
  },
  {
   "cell_type": "code",
   "execution_count": 4,
   "id": "41c81737-5740-4fbd-b292-5a097c7bb098",
   "metadata": {},
   "outputs": [],
   "source": [
    "#drop unnecessary columns\n",
    "columns_to_drop = ['ESS_Id', 'actionDescription', 'ecuSoftwareVersion', 'ecuSerialNumber', 'ecuModel', 'ecuMake', 'ecuSource', 'faultValue', 'MCTNumber']\n",
    "faults_a = faults.drop(columns=columns_to_drop)\n",
    "\n",
    "# fix data types\n",
    "faults_a['EventTimeStamp'] = pd.to_datetime(faults_a['EventTimeStamp'])\n",
    "faults_a['LocationTimeStamp'] = pd.to_datetime(faults_a['LocationTimeStamp'])"
   ]
  },
  {
   "cell_type": "code",
   "execution_count": 5,
   "id": "f2be81eb-18c3-4e2d-b8a6-f4b5e1ddb6d6",
   "metadata": {},
   "outputs": [
    {
     "name": "stdout",
     "output_type": "stream",
     "text": [
      "<class 'pandas.core.frame.DataFrame'>\n",
      "RangeIndex: 1187335 entries, 0 to 1187334\n",
      "Data columns (total 11 columns):\n",
      " #   Column                 Non-Null Count    Dtype         \n",
      "---  ------                 --------------    -----         \n",
      " 0   RecordID               1187335 non-null  int64         \n",
      " 1   EventTimeStamp         1187335 non-null  datetime64[ns]\n",
      " 2   eventDescription       1126490 non-null  object        \n",
      " 3   spn                    1187335 non-null  int64         \n",
      " 4   fmi                    1187335 non-null  int64         \n",
      " 5   active                 1187335 non-null  bool          \n",
      " 6   activeTransitionCount  1187335 non-null  int64         \n",
      " 7   EquipmentID            1187335 non-null  object        \n",
      " 8   Latitude               1187335 non-null  float64       \n",
      " 9   Longitude              1187335 non-null  float64       \n",
      " 10  LocationTimeStamp      1187335 non-null  datetime64[ns]\n",
      "dtypes: bool(1), datetime64[ns](2), float64(2), int64(4), object(2)\n",
      "memory usage: 91.7+ MB\n"
     ]
    }
   ],
   "source": [
    "faults_a.info()"
   ]
  },
  {
   "cell_type": "code",
   "execution_count": 6,
   "id": "b173cd4e-8f2a-4316-950d-9e72919f546e",
   "metadata": {},
   "outputs": [],
   "source": [
    "# function to categorize time of day\n",
    "def categorize_time_of_day(hour):\n",
    "    if 6 <= hour < 12:\n",
    "        return 'Morning'\n",
    "    elif 12 <= hour < 18:\n",
    "        return 'Afternoon'\n",
    "    elif 18 <= hour < 24:\n",
    "        return 'Night'\n",
    "    else:\n",
    "        return 'Early'"
   ]
  },
  {
   "cell_type": "code",
   "execution_count": 7,
   "id": "6b590ff2-2403-4d29-a018-38f7bdf2a9cb",
   "metadata": {},
   "outputs": [],
   "source": [
    "# Apply the function to create a new column for time of day\n",
    "faults_a['time_of_day'] = faults_a['EventTimeStamp'].dt.hour.apply(categorize_time_of_day)"
   ]
  },
  {
   "cell_type": "code",
   "execution_count": 8,
   "id": "fd28f9cf-7ff6-4ec9-9a40-6e3d98444812",
   "metadata": {},
   "outputs": [],
   "source": [
    "faults_a['EquipmentID']=faults_a['EquipmentID'].str.extract('(\\d+)')"
   ]
  },
  {
   "cell_type": "code",
   "execution_count": 9,
   "id": "67b1338b-0b83-46d8-b566-94fbabf5820c",
   "metadata": {},
   "outputs": [
    {
     "name": "stdout",
     "output_type": "stream",
     "text": [
      "<class 'pandas.core.frame.DataFrame'>\n",
      "RangeIndex: 1187335 entries, 0 to 1187334\n",
      "Data columns (total 12 columns):\n",
      " #   Column                 Non-Null Count    Dtype         \n",
      "---  ------                 --------------    -----         \n",
      " 0   RecordID               1187335 non-null  int64         \n",
      " 1   EventTimeStamp         1187335 non-null  datetime64[ns]\n",
      " 2   eventDescription       1126490 non-null  object        \n",
      " 3   spn                    1187335 non-null  int64         \n",
      " 4   fmi                    1187335 non-null  int64         \n",
      " 5   active                 1187335 non-null  bool          \n",
      " 6   activeTransitionCount  1187335 non-null  int64         \n",
      " 7   EquipmentID            1187335 non-null  object        \n",
      " 8   Latitude               1187335 non-null  float64       \n",
      " 9   Longitude              1187335 non-null  float64       \n",
      " 10  LocationTimeStamp      1187335 non-null  datetime64[ns]\n",
      " 11  time_of_day            1187335 non-null  object        \n",
      "dtypes: bool(1), datetime64[ns](2), float64(2), int64(4), object(3)\n",
      "memory usage: 100.8+ MB\n"
     ]
    }
   ],
   "source": [
    "faults_a.info()"
   ]
  },
  {
   "cell_type": "code",
   "execution_count": 10,
   "id": "33f01ce9-0dec-4c56-a9a7-e46f1933ce15",
   "metadata": {},
   "outputs": [],
   "source": [
    "def categorize_time_of_day(hour):\n",
    "    if faults_a.spn <= hour < 12:\n",
    "        return 'Morning'\n",
    "    elif 12 <= hour < 18:\n",
    "        return 'Afternoon'\n",
    "    elif 18 <= hour < 24:\n",
    "        return 'Night'\n",
    "    else:\n",
    "        return 'Early'"
   ]
  },
  {
   "cell_type": "code",
   "execution_count": null,
   "id": "d9aad580-93b5-477c-95ea-6a8386dbbac7",
   "metadata": {},
   "outputs": [],
   "source": [
    "faults_a.head()\n"
   ]
  },
  {
   "cell_type": "code",
   "execution_count": null,
   "id": "2b727e2c-7401-410a-b989-006a6036fe78",
   "metadata": {},
   "outputs": [],
   "source": [
    "faults_merged = pd.merge(faults_a, diagnostics.pivot(index='FaultId', columns='Name', values='Value'), \n",
    "                     left_on='RecordID',right_on= 'FaultId',how='left')"
   ]
  },
  {
   "cell_type": "code",
   "execution_count": null,
   "id": "5f65ef08-d199-402b-903e-9b06402a1059",
   "metadata": {},
   "outputs": [],
   "source": [
    "faults_merged.head()"
   ]
  },
  {
   "cell_type": "code",
   "execution_count": null,
   "id": "8a79fe44-b2dd-4698-8af5-cd54cb64a992",
   "metadata": {},
   "outputs": [],
   "source": [
    "faults_merged.info()"
   ]
  },
  {
   "cell_type": "code",
   "execution_count": null,
   "id": "5cb17c08-2a38-412a-9958-8eaab5ea9af5",
   "metadata": {},
   "outputs": [],
   "source": [
    "msno.matrix(faults_merged);"
   ]
  },
  {
   "cell_type": "code",
   "execution_count": null,
   "id": "bbe87a54-e8a2-4296-8b8f-9a2ff35f84b0",
   "metadata": {},
   "outputs": [],
   "source": [
    "# drop all columns with active==False\n",
    "faults_merged = faults_merged.drop(faults_merged[faults_merged.active == False].index)"
   ]
  },
  {
   "cell_type": "code",
   "execution_count": null,
   "id": "f96c1ed9-c53f-43f7-874b-48dab1e29648",
   "metadata": {},
   "outputs": [],
   "source": [
    "#drop noncritical columns...\n",
    "faults_merged=faults_merged.drop(columns=['eventDescription',\n",
    "                                          'AcceleratorPedal',\n",
    "                                          'FuelLevel',\n",
    "                                          'FuelTemperature',\n",
    "                                          'SwitchedBatteryVoltage',\n",
    "                                          'eventDescription',\n",
    "                                          'AcceleratorPedal',\n",
    "                                          'FuelTemperature',\n",
    "                                          'SwitchedBatteryVoltage',\n",
    "                                          'ServiceDistance',\n",
    "                                          'ParkingBrake',\n",
    "                                          'Throttle'])"
   ]
  },
  {
   "cell_type": "code",
   "execution_count": null,
   "id": "3dbe231d-a1d8-43b1-9e50-65cca0f036fb",
   "metadata": {},
   "outputs": [],
   "source": [
    "#check columns for nan's\n",
    "msno.matrix(faults_merged);"
   ]
  },
  {
   "cell_type": "code",
   "execution_count": null,
   "id": "df7a4ada-77b7-4194-aea1-dcdea630c2b5",
   "metadata": {},
   "outputs": [],
   "source": [
    "#intermediate save\n",
    "faults_merged.to_csv('../data/faults_merged.csv')"
   ]
  },
  {
   "cell_type": "code",
   "execution_count": null,
   "id": "dbe940ef-75bd-4a76-9857-af47327a757a",
   "metadata": {},
   "outputs": [],
   "source": [
    "#Take out service centers using geo dataframe, pt1\n",
    "faults_merged['geometry'] = gpd.points_from_xy(\n",
    "    faults_merged['Longitude'], \n",
    "    faults_merged['Latitude']\n",
    "    )\n",
    "\n",
    "faults_merged_geo = gpd.GeoDataFrame(\n",
    "    faults_merged, \n",
    "    crs = {'init':'epsg:4326'}, \n",
    "    geometry = faults_merged['geometry']\n",
    "    )\n",
    "#create service center geo dataframe\n",
    "service_centers = [\n",
    "    (36.0666667, -86.4347222), \n",
    "    (35.5883333, -86.4438888), \n",
    "    (36.1950, -83.174722)\n",
    "    ]  # latitude and longitude coordinates for service centers\n",
    "\n",
    "faults_merged_geo.to_crs(epsg = 3310, inplace = True)"
   ]
  },
  {
   "cell_type": "code",
   "execution_count": null,
   "id": "6ba7ed21-d112-4d87-8755-4cca49227920",
   "metadata": {},
   "outputs": [],
   "source": [
    "#Take out service centers using geo dataframe, pt 2\n",
    "#create service center geo dataframe\n",
    "service_centers = [\n",
    "    (36.0666667, -86.4347222), \n",
    "    (35.5883333, -86.4438888), \n",
    "    (36.1950, -83.174722)\n",
    "    ]  # latitude and longitude coordinates for service centers\n",
    "\n",
    "service_centers_geo = [Point(lon, lat) for lat, lon in service_centers]\n",
    "# same as before\n",
    "service_centers_geo_df = gpd.GeoDataFrame(geometry=service_centers_geo, crs={'init':'epsg:4326'})\n",
    "service_centers_geo_df.to_crs(epsg = 3310, inplace = True)\n",
    "\n",
    "\n",
    "# now we want to filter dataframe to exclude data within 5 miles of all service center locations\n",
    "distance_threshold = 5*1.609*1000 #meters\n",
    "\n",
    "# Iterate over each point of interest\n",
    "def filter(df,point):\n",
    "    df['distance'] = df['geometry'].distance(point['geometry'])\n",
    "    filtered_df = df[df['distance'] >= distance_threshold]\n",
    "    return filtered_df\n",
    "\n",
    "for index, row in service_centers_geo_df.iterrows():\n",
    "    faults_merged_geo = filter(faults_merged_geo, row)\n",
    "    \n",
    "# this dataframe has all data but within 5 miles of service center locations\n",
    "faults_merged_geo.head(2)"
   ]
  },
  {
   "cell_type": "code",
   "execution_count": null,
   "id": "6fb319a4-faf2-41b6-93cf-240a0930d0a2",
   "metadata": {},
   "outputs": [],
   "source": [
    "faults_merged_geo.info()"
   ]
  },
  {
   "cell_type": "code",
   "execution_count": null,
   "id": "af8ad761-a5d7-47a2-a7b6-e081fefb41fb",
   "metadata": {},
   "outputs": [],
   "source": [
    "faults_merged_geo=faults_merged_geo.round(2)"
   ]
  },
  {
   "cell_type": "code",
   "execution_count": null,
   "id": "26ea10c8-122b-48f2-99a8-b8b71e046fda",
   "metadata": {},
   "outputs": [],
   "source": [
    "faults_merged_geo=faults_merged_geo.dropna()"
   ]
  },
  {
   "cell_type": "code",
   "execution_count": null,
   "id": "37487f4b-86cc-4d4b-92c1-cd661f65c18f",
   "metadata": {},
   "outputs": [],
   "source": [
    "msno.matrix(faults_merged_geo);"
   ]
  },
  {
   "cell_type": "code",
   "execution_count": null,
   "id": "98489095-4f90-4c6d-92b8-71e1b1f10edf",
   "metadata": {},
   "outputs": [],
   "source": [
    "faults_merged_geo"
   ]
  },
  {
   "cell_type": "code",
   "execution_count": null,
   "id": "fc6c4d82-2430-4d31-957a-abbb62a7a15b",
   "metadata": {},
   "outputs": [],
   "source": [
    "#intermediate save\n",
    "faults_merged_geo.to_csv('../data/faults_merged_pt1_done.csv')"
   ]
  },
  {
   "cell_type": "code",
   "execution_count": null,
   "id": "cb665967-7ddd-4f4f-8990-394e8b420ffb",
   "metadata": {},
   "outputs": [],
   "source": [
    "#continued in Big-G_pipeline_pt2..."
   ]
  },
  {
   "cell_type": "code",
   "execution_count": null,
   "id": "9dda3694-294e-40a3-bf99-73df6ff73c50",
   "metadata": {},
   "outputs": [],
   "source": []
  }
 ],
 "metadata": {
  "kernelspec": {
   "display_name": "Python 3 (ipykernel)",
   "language": "python",
   "name": "python3"
  },
  "language_info": {
   "codemirror_mode": {
    "name": "ipython",
    "version": 3
   },
   "file_extension": ".py",
   "mimetype": "text/x-python",
   "name": "python",
   "nbconvert_exporter": "python",
   "pygments_lexer": "ipython3",
   "version": "3.11.8"
  }
 },
 "nbformat": 4,
 "nbformat_minor": 5
}
